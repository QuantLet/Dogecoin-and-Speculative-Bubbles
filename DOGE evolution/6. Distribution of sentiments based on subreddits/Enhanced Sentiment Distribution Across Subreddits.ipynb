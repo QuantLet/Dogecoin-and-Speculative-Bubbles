{
 "cells": [
  {
   "cell_type": "code",
   "execution_count": 2,
   "metadata": {},
   "outputs": [],
   "source": [
    "import ccxt\n",
    "import pandas as pd\n",
    "from datetime import datetime, timedelta\n",
    "import plotly.graph_objects as go\n",
    "import numpy as np\n",
    "from scipy.optimize import curve_fit\n",
    "from scipy.signal import find_peaks\n",
    "import matplotlib.pyplot as plt\n",
    "from sklearn.metrics import mean_absolute_error, mean_squared_error\n",
    "import praw\n",
    "import datetime\n",
    "import time\n",
    "import re\n",
    "import nltk\n",
    "from nltk.corpus import stopwords\n",
    "from wordcloud import WordCloud\n",
    "from textblob import TextBlob\n",
    "from collections import Counter\n",
    "from nltk.sentiment import SentimentIntensityAnalyzer\n",
    "import seaborn as sns\n"
   ]
  },
  {
   "cell_type": "code",
   "execution_count": 34,
   "metadata": {},
   "outputs": [],
   "source": [
    "reddit = praw.Reddit(\n",
    "        client_id=\"udETyhJL0aeOJK7cKBobFw\",\n",
    "        client_secret=\"_jleGnNzYrqZtRgC9WXlnTpPY8rtbA\",\n",
    "        user_agent=\"reddit_scraper_v1\"\n",
    ")\n",
    "\n",
    "subreddits = [\n",
    "    \"politics\", \"conservative\",  \n",
    "    \"technology\", \"elonmusk\", \"SpaceX\", \"teslamotors\",  \n",
    "    \"cryptocurrency\", \"dogecoin\"  \n",
    "]"
   ]
  },
  {
   "cell_type": "code",
   "execution_count": 35,
   "metadata": {},
   "outputs": [],
   "source": [
    "keywords = [\"Trump\", \"Donald\", \"election\", \"policy\", \"president\", \"Musk\", \"Elon\", \"Tesla\", \"SpaceX\", \"Dogecoin\", \"crypto\", \"DOGE\", \"dogecoin\"]\n",
    "\n",
    "start_date = int(datetime.datetime(2024, 8, 1).timestamp())  \n",
    "end_date = int(datetime.datetime(2025, 1, 31).timestamp())"
   ]
  },
  {
   "cell_type": "code",
   "execution_count": 36,
   "metadata": {},
   "outputs": [],
   "source": [
    "def fetch_reddit_posts(subreddit, limit=10000):\n",
    "    posts = []\n",
    "    for submission in reddit.subreddit(subreddit).search(\" OR \".join(keywords), sort=\"new\", time_filter=\"all\", limit=limit):\n",
    "        post_date = datetime.datetime.utcfromtimestamp(submission.created_utc)\n",
    "        if start_date <= submission.created_utc <= end_date:  \n",
    "            posts.append({\n",
    "                \"subreddit\": subreddit,\n",
    "                \"title\": submission.title,\n",
    "                \"selftext\": submission.selftext,\n",
    "                \"score\": submission.score,\n",
    "                \"num_comments\": submission.num_comments,\n",
    "                \"created_utc\": post_date,\n",
    "                \"url\": submission.url\n",
    "            })\n",
    "    return posts"
   ]
  },
  {
   "cell_type": "code",
   "execution_count": 71,
   "metadata": {},
   "outputs": [
    {
     "name": "stderr",
     "output_type": "stream",
     "text": [
      "C:\\Users\\Razvan\\AppData\\Local\\Temp\\ipykernel_16828\\108412910.py:12: DeprecationWarning:\n",
      "\n",
      "datetime.datetime.utcfromtimestamp() is deprecated and scheduled for removal in a future version. Use timezone-aware objects to represent datetimes in UTC: datetime.datetime.fromtimestamp(timestamp, datetime.UTC).\n",
      "\n"
     ]
    }
   ],
   "source": [
    "all_posts = []\n",
    "for sub in subreddits:\n",
    "    all_posts.extend(fetch_reddit_posts(sub))"
   ]
  },
  {
   "cell_type": "code",
   "execution_count": null,
   "metadata": {},
   "outputs": [
    {
     "data": {
      "text/plain": [
       "array(['elonmusk', 'SpaceX', 'teslamotors'], dtype=object)"
      ]
     },
     "execution_count": 70,
     "metadata": {},
     "output_type": "execute_result"
    }
   ],
   "source": [
    "reddit_df = pd.DataFrame(all_posts)\n",
    "reddit_df.to_csv(\"reddit.csv\", index=False)\n",
    "reddit_df['subreddit'].unique()"
   ]
  },
  {
   "cell_type": "code",
   "execution_count": null,
   "metadata": {},
   "outputs": [
    {
     "data": {
      "text/html": [
       "<div>\n",
       "<style scoped>\n",
       "    .dataframe tbody tr th:only-of-type {\n",
       "        vertical-align: middle;\n",
       "    }\n",
       "\n",
       "    .dataframe tbody tr th {\n",
       "        vertical-align: top;\n",
       "    }\n",
       "\n",
       "    .dataframe thead th {\n",
       "        text-align: right;\n",
       "    }\n",
       "</style>\n",
       "<table border=\"1\" class=\"dataframe\">\n",
       "  <thead>\n",
       "    <tr style=\"text-align: right;\">\n",
       "      <th></th>\n",
       "      <th>subreddit</th>\n",
       "      <th>title</th>\n",
       "      <th>selftext</th>\n",
       "      <th>score</th>\n",
       "      <th>num_comments</th>\n",
       "      <th>created_utc</th>\n",
       "      <th>url</th>\n",
       "    </tr>\n",
       "  </thead>\n",
       "  <tbody>\n",
       "    <tr>\n",
       "      <th>0</th>\n",
       "      <td>technology</td>\n",
       "      <td>Google Maps Adopted ‘Gulf of America’ Name, an...</td>\n",
       "      <td></td>\n",
       "      <td>2887</td>\n",
       "      <td>317</td>\n",
       "      <td>2025-01-30 21:12:44</td>\n",
       "      <td>https://gizmodo.com/google-maps-adopted-gulf-o...</td>\n",
       "    </tr>\n",
       "    <tr>\n",
       "      <th>1</th>\n",
       "      <td>technology</td>\n",
       "      <td>Tech and consumer groups urge Trump White Hous...</td>\n",
       "      <td></td>\n",
       "      <td>996</td>\n",
       "      <td>23</td>\n",
       "      <td>2025-01-30 19:07:49</td>\n",
       "      <td>https://www.cnbc.com/2025/01/30/tech-groups-ur...</td>\n",
       "    </tr>\n",
       "    <tr>\n",
       "      <th>2</th>\n",
       "      <td>technology</td>\n",
       "      <td>Trump’s $500 billion AI data-center project ex...</td>\n",
       "      <td></td>\n",
       "      <td>0</td>\n",
       "      <td>12</td>\n",
       "      <td>2025-01-30 18:50:27</td>\n",
       "      <td>https://www.pv-magazine.com/2025/01/27/trumps-...</td>\n",
       "    </tr>\n",
       "    <tr>\n",
       "      <th>3</th>\n",
       "      <td>technology</td>\n",
       "      <td>President Donald Trump's move to delay TikTok ...</td>\n",
       "      <td></td>\n",
       "      <td>10145</td>\n",
       "      <td>398</td>\n",
       "      <td>2025-01-30 11:35:53</td>\n",
       "      <td>https://www.upi.com/Top_News/US/2025/01/30/tik...</td>\n",
       "    </tr>\n",
       "    <tr>\n",
       "      <th>4</th>\n",
       "      <td>technology</td>\n",
       "      <td>Meta agrees to pay $25 million to settle Trump...</td>\n",
       "      <td></td>\n",
       "      <td>570</td>\n",
       "      <td>205</td>\n",
       "      <td>2025-01-29 23:17:28</td>\n",
       "      <td>https://www.nbcnews.com/tech/tech-news/meta-ag...</td>\n",
       "    </tr>\n",
       "    <tr>\n",
       "      <th>...</th>\n",
       "      <td>...</td>\n",
       "      <td>...</td>\n",
       "      <td>...</td>\n",
       "      <td>...</td>\n",
       "      <td>...</td>\n",
       "      <td>...</td>\n",
       "      <td>...</td>\n",
       "    </tr>\n",
       "    <tr>\n",
       "      <th>678</th>\n",
       "      <td>teslamotors</td>\n",
       "      <td>Tesla Model Y Drives Norway to Record 94% EV M...</td>\n",
       "      <td></td>\n",
       "      <td>208</td>\n",
       "      <td>27</td>\n",
       "      <td>2024-09-03 13:55:45</td>\n",
       "      <td>https://driveteslacanada.ca/news/tesla-model-y...</td>\n",
       "    </tr>\n",
       "    <tr>\n",
       "      <th>679</th>\n",
       "      <td>teslamotors</td>\n",
       "      <td>Tesla ASS (Actually Smart Summon) Roundabout Test</td>\n",
       "      <td></td>\n",
       "      <td>627</td>\n",
       "      <td>194</td>\n",
       "      <td>2024-09-03 12:13:25</td>\n",
       "      <td>https://youtu.be/wmZ7oHzRfvk?si=h-4AyP3ixQ6JKsx1</td>\n",
       "    </tr>\n",
       "    <tr>\n",
       "      <th>680</th>\n",
       "      <td>teslamotors</td>\n",
       "      <td>Tesla release 2024.27.20 with FSD v12.5.3 and ...</td>\n",
       "      <td></td>\n",
       "      <td>148</td>\n",
       "      <td>88</td>\n",
       "      <td>2024-09-03 05:42:32</td>\n",
       "      <td>https://tesla-info.com/release/2024.27.20</td>\n",
       "    </tr>\n",
       "    <tr>\n",
       "      <th>681</th>\n",
       "      <td>teslamotors</td>\n",
       "      <td>Car Mechanic Reviews The Tesla CyberTruck! Bre...</td>\n",
       "      <td></td>\n",
       "      <td>32</td>\n",
       "      <td>19</td>\n",
       "      <td>2024-09-03 03:46:45</td>\n",
       "      <td>https://youtu.be/pi7Ec9APt7s?si=3PmhSwVuN-wEzYHu</td>\n",
       "    </tr>\n",
       "    <tr>\n",
       "      <th>682</th>\n",
       "      <td>teslamotors</td>\n",
       "      <td>Brand loyalty still strong</td>\n",
       "      <td>“Tesla is the leader in brand loyalty. That’s ...</td>\n",
       "      <td>311</td>\n",
       "      <td>359</td>\n",
       "      <td>2024-09-02 19:10:53</td>\n",
       "      <td>https://www.forbes.com/sites/brookecrothers/20...</td>\n",
       "    </tr>\n",
       "  </tbody>\n",
       "</table>\n",
       "<p>683 rows × 7 columns</p>\n",
       "</div>"
      ],
      "text/plain": [
       "       subreddit                                              title  \\\n",
       "0     technology  Google Maps Adopted ‘Gulf of America’ Name, an...   \n",
       "1     technology  Tech and consumer groups urge Trump White Hous...   \n",
       "2     technology  Trump’s $500 billion AI data-center project ex...   \n",
       "3     technology  President Donald Trump's move to delay TikTok ...   \n",
       "4     technology  Meta agrees to pay $25 million to settle Trump...   \n",
       "..           ...                                                ...   \n",
       "678  teslamotors  Tesla Model Y Drives Norway to Record 94% EV M...   \n",
       "679  teslamotors  Tesla ASS (Actually Smart Summon) Roundabout Test   \n",
       "680  teslamotors  Tesla release 2024.27.20 with FSD v12.5.3 and ...   \n",
       "681  teslamotors  Car Mechanic Reviews The Tesla CyberTruck! Bre...   \n",
       "682  teslamotors                         Brand loyalty still strong   \n",
       "\n",
       "                                              selftext  score  num_comments  \\\n",
       "0                                                        2887           317   \n",
       "1                                                         996            23   \n",
       "2                                                           0            12   \n",
       "3                                                       10145           398   \n",
       "4                                                         570           205   \n",
       "..                                                 ...    ...           ...   \n",
       "678                                                       208            27   \n",
       "679                                                       627           194   \n",
       "680                                                       148            88   \n",
       "681                                                        32            19   \n",
       "682  “Tesla is the leader in brand loyalty. That’s ...    311           359   \n",
       "\n",
       "            created_utc                                                url  \n",
       "0   2025-01-30 21:12:44  https://gizmodo.com/google-maps-adopted-gulf-o...  \n",
       "1   2025-01-30 19:07:49  https://www.cnbc.com/2025/01/30/tech-groups-ur...  \n",
       "2   2025-01-30 18:50:27  https://www.pv-magazine.com/2025/01/27/trumps-...  \n",
       "3   2025-01-30 11:35:53  https://www.upi.com/Top_News/US/2025/01/30/tik...  \n",
       "4   2025-01-29 23:17:28  https://www.nbcnews.com/tech/tech-news/meta-ag...  \n",
       "..                  ...                                                ...  \n",
       "678 2024-09-03 13:55:45  https://driveteslacanada.ca/news/tesla-model-y...  \n",
       "679 2024-09-03 12:13:25   https://youtu.be/wmZ7oHzRfvk?si=h-4AyP3ixQ6JKsx1  \n",
       "680 2024-09-03 05:42:32          https://tesla-info.com/release/2024.27.20  \n",
       "681 2024-09-03 03:46:45   https://youtu.be/pi7Ec9APt7s?si=3PmhSwVuN-wEzYHu  \n",
       "682 2024-09-02 19:10:53  https://www.forbes.com/sites/brookecrothers/20...  \n",
       "\n",
       "[683 rows x 7 columns]"
      ]
     },
     "execution_count": 38,
     "metadata": {},
     "output_type": "execute_result"
    }
   ],
   "source": [
    "reddit_df"
   ]
  },
  {
   "cell_type": "code",
   "execution_count": 58,
   "metadata": {},
   "outputs": [
    {
     "name": "stderr",
     "output_type": "stream",
     "text": [
      "[nltk_data] Downloading package vader_lexicon to\n",
      "[nltk_data]     C:\\Users\\Razvan\\AppData\\Roaming\\nltk_data...\n"
     ]
    },
    {
     "data": {
      "text/plain": [
       "True"
      ]
     },
     "execution_count": 58,
     "metadata": {},
     "output_type": "execute_result"
    }
   ],
   "source": [
    "nltk.download(\"vader_lexicon\")\n"
   ]
  },
  {
   "cell_type": "code",
   "execution_count": 124,
   "metadata": {},
   "outputs": [],
   "source": [
    "senti_df_cop = pd.read_csv(\"reddit.csv\")"
   ]
  },
  {
   "cell_type": "code",
   "execution_count": 136,
   "metadata": {},
   "outputs": [],
   "source": [
    "\n",
    "senti_df_cop[\"text\"] = senti_df_cop[\"title\"].fillna(\"\") + \" \" + senti_df_cop[\"selftext\"].fillna(\"\")\n",
    "\n",
    "sia = SentimentIntensityAnalyzer()\n",
    "\n",
    "senti_df_cop[\"compound\"] = senti_df_cop[\"text\"].apply(lambda x: sia.polarity_scores(x)[\"compound\"])\n",
    "senti_df_cop[\"positive\"] = senti_df_cop[\"text\"].apply(lambda x: sia.polarity_scores(x)[\"pos\"])\n",
    "senti_df_cop[\"neutral\"] = senti_df_cop[\"text\"].apply(lambda x: sia.polarity_scores(x)[\"neu\"])\n",
    "senti_df_cop[\"negative\"] = senti_df_cop[\"text\"].apply(lambda x: sia.polarity_scores(x)[\"neg\"])\n",
    "\n",
    "sentiment_by_subreddit = senti_df_cop.groupby(\"subreddit\")[[\"positive\", \"neutral\", \"negative\"]].mean()\n",
    "\n"
   ]
  },
  {
   "cell_type": "code",
   "execution_count": 137,
   "metadata": {},
   "outputs": [
    {
     "data": {
      "image/png": "[encoded data removed]",
      "text/plain": [
       "<Figure size 1000x600 with 1 Axes>"
      ]
     },
     "metadata": {
      "needs_background": "light"
     },
     "output_type": "display_data"
    }
   ],
   "source": [
    "factor = 0.9\n",
    "\n",
    "sentiment_by_subreddit[\"positive\"] *= (1 + factor)\n",
    "sentiment_by_subreddit[\"negative\"] *= (1 + factor)\n",
    "sentiment_by_subreddit[\"neutral\"] *= 0.1\n",
    "\n",
    "sentiment_by_subreddit = sentiment_by_subreddit.div(sentiment_by_subreddit.sum(axis=1), axis=0)\n",
    "\n",
    "synthetic_sentiment_long = sentiment_by_subreddit.reset_index().melt(id_vars=\"subreddit\", var_name=\"sentiment\", value_name=\"score\")\n",
    "\n",
    "plt.figure(figsize=(10, 6))\n",
    "sns.barplot(x=\"score\", y=\"subreddit\", hue=\"sentiment\", data=synthetic_sentiment_long, palette=\"coolwarm\")\n",
    "\n",
    "plt.xlabel(\"Synthetic Adjusted Sentiment Score\")\n",
    "plt.ylabel(\"Subreddit\")\n",
    "plt.title(\"Enhanced Sentiment Distribution Across Subreddits (Adjusted for Visualization)\")\n",
    "plt.legend()\n",
    "plt.gca().patch.set_alpha(0)\n",
    "plt.gcf().patch.set_alpha(0)\n",
    "legend = plt.legend(title=\"Sentiment\", fontsize=10, loc='lower right', frameon=False)\n",
    "legend.get_frame().set_alpha(0)\n",
    "plt.show()"
   ]
  }
 ],
 "metadata": {
  "kernelspec": {
   "display_name": "econometrie-avansata",
   "language": "python",
   "name": "econometrie-avansata"
  },
  "language_info": {
   "codemirror_mode": {
    "name": "ipython",
    "version": 3
   },
   "file_extension": ".py",
   "mimetype": "text/x-python",
   "name": "python",
   "nbconvert_exporter": "python",
   "pygments_lexer": "ipython3",
   "version": "3.12.2"
  }
 },
 "nbformat": 4,
 "nbformat_minor": 2
}
